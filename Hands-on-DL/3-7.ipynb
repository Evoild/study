{
 "cells": [
  {
   "cell_type": "markdown",
   "id": "beacda5f",
   "metadata": {},
   "source": [
    "# 3.7 softmax的pytorch实现"
   ]
  },
  {
   "cell_type": "code",
   "execution_count": null,
   "id": "b6307a2c",
   "metadata": {},
   "outputs": [],
   "source": [
    "import torch\n",
    "import torch.nn as nn\n",
    "from torch.utils import data\n",
    "from torchvision import datasets, transforms\n",
    "import torch.optim"
   ]
  },
  {
   "cell_type": "markdown",
   "id": "31a86c1d",
   "metadata": {},
   "source": [
    "### load the data and param"
   ]
  },
  {
   "cell_type": "code",
   "execution_count": null,
   "id": "ebd4a131",
   "metadata": {},
   "outputs": [],
   "source": [
    "BATCH_SIZE = 32\n",
    "EPOCH = 10\n",
    "INPUT = 28* 28\n",
    "OUTPUT = 10\n",
    "LR = 0.1\n",
    "transform = transforms.Compose([\n",
    "    transforms.ToTensor()\n",
    "])\n",
    "\n",
    "train_dataset = datasets.FashionMNIST(root = './data', train=True, download=False, transform=transform)\n",
    "test_dataset = datasets.FashionMNIST(root = './data', train=False, download=False, transform=transform)\n",
    "\n",
    "train_loader = data.DataLoader(train_dataset, batch_size=BATCH_SIZE, shuffle=True)\n",
    "test_loader = data.DataLoader(test_dataset, batch_size=BATCH_SIZE, shuffle=False)"
   ]
  },
  {
   "cell_type": "markdown",
   "id": "1321a6d3",
   "metadata": {},
   "source": [
    "### create the net"
   ]
  },
  {
   "cell_type": "code",
   "execution_count": null,
   "id": "e0c8267f",
   "metadata": {},
   "outputs": [],
   "source": [
    "\n",
    "class softmax_Net(nn.Module):\n",
    "    def __init__(self, input, output):\n",
    "        super().__init__()\n",
    "        self.net = nn.Sequential(nn.Flatten(), nn.Linear(input, output))\n",
    "        \n",
    "    def forward(self, x):\n",
    "        return self.net(x)\n",
    "\n",
    "net = softmax_Net(INPUT, OUTPUT)\n"
   ]
  },
  {
   "cell_type": "markdown",
   "id": "2eceb974",
   "metadata": {},
   "source": [
    "### train"
   ]
  },
  {
   "cell_type": "code",
   "execution_count": null,
   "id": "cef33e7a",
   "metadata": {},
   "outputs": [],
   "source": [
    "loss = nn.CrossEntropyLoss()\n",
    "optimizer = torch.optim.Adam(net.parameters(), lr=LR)"
   ]
  },
  {
   "cell_type": "code",
   "execution_count": null,
   "id": "431cd590",
   "metadata": {},
   "outputs": [],
   "source": [
    "for epoch in range(EPOCH):\n",
    "    net.train()\n",
    "    total_loss, correct, total = 0, 0, 0\n",
    "    for X, y in train_loader:\n",
    "        y_pred = net(X)\n",
    "        l = loss(y_pred, y)\n",
    "        \n",
    "        optimizer.zero_grad()\n",
    "        l.backward()\n",
    "        optimizer.step()\n",
    "\n",
    "        total_loss += l.item()\n",
    "        correct += (y_pred.argmax(1) == y).sum().item()\n",
    "        total += y.size(0)\n",
    "\n",
    "    train_acc = correct / total\n",
    "    print(f\"Epoch [{epoch+1}/{EPOCH}]  Loss: {total_loss/len(train_loader):.4f}  Accuracy: {train_acc:.4f}\")\n"
   ]
  },
  {
   "cell_type": "code",
   "execution_count": null,
   "id": "8719b0dc",
   "metadata": {},
   "outputs": [],
   "source": [
    "net.eval()\n",
    "correct, total = 0, 0\n",
    "with torch.no_grad():\n",
    "    for X, y in test_loader:\n",
    "        y_pred = net(X)\n",
    "        print(y.shape, y_pred.shape)\n",
    "        correct += (y_pred.argmax(1) == y).sum().item()\n",
    "        total += y.size(0)\n",
    "\n",
    "print(f\"Test Accuracy: {correct / total:.4f}\")"
   ]
  }
 ],
 "metadata": {
  "kernelspec": {
   "display_name": "pytorch",
   "language": "python",
   "name": "python3"
  },
  "language_info": {
   "codemirror_mode": {
    "name": "ipython",
    "version": 3
   },
   "file_extension": ".py",
   "mimetype": "text/x-python",
   "name": "python",
   "nbconvert_exporter": "python",
   "pygments_lexer": "ipython3",
   "version": "3.10.18"
  }
 },
 "nbformat": 4,
 "nbformat_minor": 5
}
