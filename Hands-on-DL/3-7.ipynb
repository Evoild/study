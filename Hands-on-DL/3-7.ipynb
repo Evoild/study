{
 "cells": [
  {
   "cell_type": "markdown",
   "id": "beacda5f",
   "metadata": {},
   "source": [
    "# 3.7 softmax的pytorch实现"
   ]
  },
  {
   "cell_type": "code",
   "execution_count": 15,
   "id": "b6307a2c",
   "metadata": {},
   "outputs": [],
   "source": [
    "import torch\n",
    "import torch.nn as nn\n",
    "from torch.utils import data\n",
    "from torchvision import datasets, transforms\n",
    "import torch.optim"
   ]
  },
  {
   "cell_type": "markdown",
   "id": "31a86c1d",
   "metadata": {},
   "source": [
    "### load the data and param"
   ]
  },
  {
   "cell_type": "code",
   "execution_count": 16,
   "id": "ebd4a131",
   "metadata": {},
   "outputs": [],
   "source": [
    "BATCH_SIZE = 32\n",
    "EPOCH = 10\n",
    "INPUT = 28* 28\n",
    "OUTPUT = 10\n",
    "LR = 0.001\n",
    "transform = transforms.Compose([transforms.ToTensor()])\n",
    "train_dataset = datasets.FashionMNIST(root = './data', train=True, download=True, transform=transform)\n",
    "test_dataset = datasets.FashionMNIST(root = './data', train=False, download=True, transform=transform)\n",
    "\n",
    "train_iter = data.DataLoader(train_dataset, batch_size=BATCH_SIZE, shuffle=True)\n",
    "test_iter = data.DataLoader(test_dataset, batch_size=BATCH_SIZE, shuffle=False)"
   ]
  },
  {
   "cell_type": "markdown",
   "id": "1321a6d3",
   "metadata": {},
   "source": [
    "### create the net"
   ]
  },
  {
   "cell_type": "code",
   "execution_count": null,
   "id": "e0c8267f",
   "metadata": {},
   "outputs": [],
   "source": [
    "\n",
    "class softmax_Net(nn.Module):\n",
    "    def __init__(self, input, output):\n",
    "        super().__init__()\n",
    "        self.net = nn.Sequential(nn.Flatten(), nn.Linear(input, output))\n",
    "        \n",
    "    def forward(self, x):\n",
    "        return self.net(x)\n",
    "\n",
    "net = softmax_Net(INPUT, OUTPUT)\n"
   ]
  },
  {
   "cell_type": "markdown",
   "id": "2eceb974",
   "metadata": {},
   "source": [
    "### train"
   ]
  },
  {
   "cell_type": "code",
   "execution_count": null,
   "id": "cef33e7a",
   "metadata": {},
   "outputs": [
    {
     "name": "stdout",
     "output_type": "stream",
     "text": [
      "torch.Size([32, 1, 28, 28]) torch.Size([32])\n",
      "torch.Size([32, 10])\n"
     ]
    },
    {
     "name": "stderr",
     "output_type": "stream",
     "text": [
      "e:\\Anaconda3\\envs\\pytorch\\lib\\site-packages\\torch\\nn\\modules\\module.py:1532: UserWarning: Implicit dimension choice for softmax has been deprecated. Change the call to include dim=X as an argument.\n",
      "  return self._call_impl(*args, **kwargs)\n"
     ]
    },
    {
     "ename": "RuntimeError",
     "evalue": "The size of tensor a (32) must match the size of tensor b (10) at non-singleton dimension 1",
     "output_type": "error",
     "traceback": [
      "\u001b[1;31m---------------------------------------------------------------------------\u001b[0m",
      "\u001b[1;31mRuntimeError\u001b[0m                              Traceback (most recent call last)",
      "Cell \u001b[1;32mIn[23], line 11\u001b[0m\n\u001b[0;32m      9\u001b[0m o \u001b[38;5;241m=\u001b[39m net(x)\n\u001b[0;32m     10\u001b[0m \u001b[38;5;28mprint\u001b[39m(o\u001b[38;5;241m.\u001b[39mshape)\n\u001b[1;32m---> 11\u001b[0m l \u001b[38;5;241m=\u001b[39m loss(\u001b[43my\u001b[49m\u001b[43m \u001b[49m\u001b[38;5;241;43m-\u001b[39;49m\u001b[43m \u001b[49m\u001b[43mo\u001b[49m)\n\u001b[0;32m     12\u001b[0m loss\u001b[38;5;241m.\u001b[39mbackward()\n\u001b[0;32m     13\u001b[0m optimizer\u001b[38;5;241m.\u001b[39mstep()\n",
      "\u001b[1;31mRuntimeError\u001b[0m: The size of tensor a (32) must match the size of tensor b (10) at non-singleton dimension 1"
     ]
    }
   ],
   "source": [
    "loss = nn.CrossEntropyLoss()\n",
    "optimizer = torch.optim.Adam(net.parameters(), lr=LR)\n",
    "\n",
    "\n",
    "for i in range(EPOCH):\n",
    "    for x, y in train_iter:\n",
    "        y = torch.tensor()\n",
    "        print(x.shape, y.shape)\n",
    "        net.zero_grad()\n",
    "        o = net(x)\n",
    "        print(o.shape)\n",
    "        l = loss(y - o)\n",
    "        loss.backward()\n",
    "        optimizer.step()"
   ]
  }
 ],
 "metadata": {
  "kernelspec": {
   "display_name": "pytorch",
   "language": "python",
   "name": "python3"
  },
  "language_info": {
   "codemirror_mode": {
    "name": "ipython",
    "version": 3
   },
   "file_extension": ".py",
   "mimetype": "text/x-python",
   "name": "python",
   "nbconvert_exporter": "python",
   "pygments_lexer": "ipython3",
   "version": "3.10.14"
  }
 },
 "nbformat": 4,
 "nbformat_minor": 5
}
