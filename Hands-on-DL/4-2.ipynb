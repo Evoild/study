{
 "cells": [
  {
   "cell_type": "code",
   "execution_count": 1,
   "id": "05892113",
   "metadata": {},
   "outputs": [],
   "source": [
    "import torch\n",
    "import torch.nn as nn\n",
    "import numpy as np\n",
    "from torchvision import datasets, transforms\n",
    "from torch.utils import data\n",
    "import torch.optim\n"
   ]
  },
  {
   "cell_type": "code",
   "execution_count": 2,
   "id": "e2595dba",
   "metadata": {},
   "outputs": [],
   "source": [
    "LR = 0.1\n",
    "EPOCH = 20\n",
    "BATCH_SIZE = 32\n",
    "num_inputs, num_outputs, num_hiddens = 784, 10, 256"
   ]
  },
  {
   "cell_type": "code",
   "execution_count": 3,
   "id": "8d0b6d53",
   "metadata": {},
   "outputs": [],
   "source": [
    "from pickle import TRUE\n",
    "\n",
    "\n",
    "transform = transforms.Compose([\n",
    "    transforms.ToTensor()\n",
    "])\n",
    "\n",
    "train_datasets = datasets.FashionMNIST(root='./data', train=True, transform=transform, download=False)\n",
    "train_loader = data.DataLoader(train_datasets, batch_size=BATCH_SIZE, shuffle=TRUE)\n",
    "test_datasets = datasets.FashionMNIST(root='./data', train=False, transform=transform, download=False)\n",
    "test_loader = data.DataLoader(test_datasets , batch_size=BATCH_SIZE, shuffle=TRUE)"
   ]
  },
  {
   "cell_type": "markdown",
   "id": "7b9625ac",
   "metadata": {},
   "source": [
    "### 从零实现"
   ]
  },
  {
   "cell_type": "code",
   "execution_count": 4,
   "id": "f575f315",
   "metadata": {},
   "outputs": [],
   "source": [
    "W1 = nn.Parameter(torch.randn(num_inputs, num_hiddens, requires_grad=True) * 0.01)\n",
    "b1 = nn.Parameter(torch.zeros(num_hiddens, requires_grad=True))\n",
    "W2 = nn.Parameter(torch.randn(num_hiddens, num_outputs, requires_grad=True) * 0.01)\n",
    "b2 = nn.Parameter(torch.zeros(num_outputs, requires_grad=True))\n",
    "param = [W1, b1, W2, b2]\n",
    "\n",
    "def relu(X):\n",
    "    a = torch.zeros_like(X)\n",
    "    return torch.max(X, a)\n",
    "\n",
    "def net(X):\n",
    "    X = X.reshape((-1, num_inputs))\n",
    "    H = relu(X@W1 + b1)  \n",
    "    return (H@W2 + b2)\n",
    "\n",
    "criterion = nn.CrossEntropyLoss()\n",
    "optimizer = torch.optim.SGD(param, lr=LR)"
   ]
  },
  {
   "cell_type": "code",
   "execution_count": 5,
   "id": "a032785e",
   "metadata": {},
   "outputs": [
    {
     "name": "stdout",
     "output_type": "stream",
     "text": [
      "Epoch [1/20]  Loss: 0.5906  Accuracy: 0.7891\n",
      "Epoch [2/20]  Loss: 0.4087  Accuracy: 0.8514\n",
      "Epoch [3/20]  Loss: 0.3681  Accuracy: 0.8662\n",
      "Epoch [4/20]  Loss: 0.3424  Accuracy: 0.8752\n",
      "Epoch [5/20]  Loss: 0.3253  Accuracy: 0.8807\n",
      "Epoch [6/20]  Loss: 0.3083  Accuracy: 0.8866\n",
      "Epoch [7/20]  Loss: 0.2968  Accuracy: 0.8909\n",
      "Epoch [8/20]  Loss: 0.2859  Accuracy: 0.8938\n",
      "Epoch [9/20]  Loss: 0.2750  Accuracy: 0.8984\n",
      "Epoch [10/20]  Loss: 0.2680  Accuracy: 0.9005\n",
      "Epoch [11/20]  Loss: 0.2579  Accuracy: 0.9035\n",
      "Epoch [12/20]  Loss: 0.2527  Accuracy: 0.9064\n",
      "Epoch [13/20]  Loss: 0.2435  Accuracy: 0.9103\n",
      "Epoch [14/20]  Loss: 0.2373  Accuracy: 0.9120\n",
      "Epoch [15/20]  Loss: 0.2314  Accuracy: 0.9142\n",
      "Epoch [16/20]  Loss: 0.2254  Accuracy: 0.9166\n",
      "Epoch [17/20]  Loss: 0.2205  Accuracy: 0.9180\n",
      "Epoch [18/20]  Loss: 0.2147  Accuracy: 0.9201\n",
      "Epoch [19/20]  Loss: 0.2101  Accuracy: 0.9224\n",
      "Epoch [20/20]  Loss: 0.2050  Accuracy: 0.9241\n"
     ]
    }
   ],
   "source": [
    "## training\n",
    "for i in range(EPOCH):\n",
    "    total_loss, correct, total = 0, 0, 0\n",
    "    for X, y in train_loader:\n",
    "        o = net(X)\n",
    "        loss = criterion(o, y)\n",
    "\n",
    "        optimizer.zero_grad()\n",
    "        loss.backward()\n",
    "        optimizer.step()\n",
    "\n",
    "        total_loss += loss.item()\n",
    "        correct += (o.argmax(1) == y).sum().item()\n",
    "        total += y.size(0)\n",
    "\n",
    "    train_acc = correct / total\n",
    "    print(f\"Epoch [{i+1}/{EPOCH}]  Loss: {total_loss/len(train_loader):.4f}  Accuracy: {train_acc:.4f}\")"
   ]
  }
 ],
 "metadata": {
  "kernelspec": {
   "display_name": "pytorch",
   "language": "python",
   "name": "python3"
  },
  "language_info": {
   "codemirror_mode": {
    "name": "ipython",
    "version": 3
   },
   "file_extension": ".py",
   "mimetype": "text/x-python",
   "name": "python",
   "nbconvert_exporter": "python",
   "pygments_lexer": "ipython3",
   "version": "3.10.18"
  }
 },
 "nbformat": 4,
 "nbformat_minor": 5
}
