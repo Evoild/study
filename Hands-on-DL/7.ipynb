{
 "cells": [
  {
   "cell_type": "markdown",
   "id": "b268b798",
   "metadata": {},
   "source": [
    "# 7.1. 深度卷积神经网络（AlexNet）"
   ]
  },
  {
   "cell_type": "code",
   "execution_count": null,
   "id": "6d641076",
   "metadata": {},
   "outputs": [
    {
     "name": "stdout",
     "output_type": "stream",
     "text": [
      "Epoch [1/10]  Loss: 0.5957  Accuracy: 0.7882\n",
      "Epoch [2/10]  Loss: 0.4430  Accuracy: 0.8397\n",
      "Epoch [3/10]  Loss: 0.4337  Accuracy: 0.8429\n",
      "Epoch [4/10]  Loss: 0.4144  Accuracy: 0.8500\n",
      "Epoch [5/10]  Loss: 0.4165  Accuracy: 0.8483\n",
      "Epoch [6/10]  Loss: 0.4150  Accuracy: 0.8475\n",
      "Epoch [7/10]  Loss: 0.4088  Accuracy: 0.8538\n",
      "Epoch [8/10]  Loss: 0.4094  Accuracy: 0.8521\n",
      "Epoch [9/10]  Loss: 0.4076  Accuracy: 0.8533\n",
      "Epoch [10/10]  Loss: 0.4059  Accuracy: 0.8541\n"
     ]
    }
   ],
   "source": [
    "import torch\n",
    "import torch.nn as nn\n",
    "from torch.nn import functional as F\n",
    "from torchvision import datasets, transforms\n",
    "from torch.utils import data\n",
    "import torch.optim as optim\n",
    "\n",
    "EPOCH = 10\n",
    "batchsize = 32\n",
    "LR=0.01\n",
    "transform = transforms.Compose([transforms.ToTensor()])\n",
    "train_datasets = datasets.FashionMNIST(root='./data', train=True, transform=transform)\n",
    "test_datasets = datasets.FashionMNIST(root='./data', train=False, transform=transform)\n",
    "\n",
    "train_dataloader = data.DataLoader(train_datasets, batch_size=batchsize, shuffle=True)\n",
    "test_dataloader = data.DataLoader(test_datasets, batch_size=batchsize, shuffle=False)\n",
    "\n",
    "net = nn.Sequential(\n",
    "    nn.Conv2d(1, 64, kernel_size=3, padding=1), nn.ReLU(),\n",
    "    nn.MaxPool2d(kernel_size=2, stride=2),\n",
    "    nn.Conv2d(64, 128, kernel_size=3, padding=1), nn.ReLU(),\n",
    "    nn.MaxPool2d(kernel_size=2, stride=2),\n",
    "    nn.Conv2d(128, 256, kernel_size=3, padding=1), nn.ReLU(),\n",
    "    nn.AdaptiveAvgPool2d((3, 3)),\n",
    "    nn.Flatten(),\n",
    "    nn.Linear(256 * 3 * 3, 1024), nn.ReLU(),\n",
    "    nn.Dropout(0.5),\n",
    "    nn.Linear(1024, 10)\n",
    ")\n",
    "loss = nn.CrossEntropyLoss()\n",
    "optimizer = optim.Adam(net.parameters(), lr=LR)\n",
    "\n",
    "for i in range(EPOCH):\n",
    "    total_loss, correct, total = 0, 0, 0\n",
    "    net.train()\n",
    "    for X, y in train_dataloader:\n",
    "        o = net(X)\n",
    "        l = loss(o, y)\n",
    "\n",
    "        optimizer.zero_grad()\n",
    "        l.backward()\n",
    "        optimizer.step()\n",
    "\n",
    "        total_loss += l.item()\n",
    "        correct += (o.argmax(1) == y).sum().item()\n",
    "        total += y.size(0)\n",
    "\n",
    "    train_acc = correct / total\n",
    "    print(f\"Epoch [{i+1}/{EPOCH}]  Loss: {total_loss/len(train_dataloader):.4f}  Accuracy: {train_acc:.4f}\")\n",
    "        \n",
    "\n"
   ]
  },
  {
   "cell_type": "code",
   "execution_count": 28,
   "id": "ed69bca2",
   "metadata": {},
   "outputs": [
    {
     "name": "stdout",
     "output_type": "stream",
     "text": [
      "Accuracy: 0.8484\n"
     ]
    }
   ],
   "source": [
    "net.eval() \n",
    "total_loss, correct, total = 0, 0, 0\n",
    "for X, y in test_dataloader:\n",
    "    o = net(X)\n",
    "    correct += (o.argmax(1) == y).sum().item()\n",
    "    total += y.size(0)\n",
    "\n",
    "train_acc = correct / total\n",
    "print(f\"Accuracy: {train_acc:.4f}\")\n",
    "    "
   ]
  },
  {
   "cell_type": "markdown",
   "id": "3d0eae7c",
   "metadata": {},
   "source": [
    "# 7.2. 使用块的网络（VGG）"
   ]
  },
  {
   "cell_type": "code",
   "execution_count": 31,
   "id": "9c77c710",
   "metadata": {},
   "outputs": [],
   "source": [
    "def vgg_block(num_convs, in_channels, out_channels):\n",
    "    layers = []\n",
    "    for _ in range(num_convs):\n",
    "        layers.append(nn.Conv2d(in_channels, out_channels,\n",
    "                                kernel_size=3, padding=1))\n",
    "        layers.append(nn.ReLU())\n",
    "        in_channels = out_channels\n",
    "    layers.append(nn.MaxPool2d(kernel_size=2,stride=2))\n",
    "    return nn.Sequential(*layers)\n",
    "\n",
    "def vgg(conv_arch):\n",
    "    conv_blks = []\n",
    "    in_channels = 1\n",
    "    # 卷积层部分\n",
    "    for (num_convs, out_channels) in conv_arch:\n",
    "        conv_blks.append(vgg_block(num_convs, in_channels, out_channels))\n",
    "        in_channels = out_channels\n",
    "\n",
    "    return nn.Sequential(\n",
    "        nn.Sequential(*conv_blks), nn.Flatten(),\n",
    "        # 全连接层部分\n",
    "        nn.Linear(out_channels * 7 * 7, 4096), nn.ReLU(), nn.Dropout(0.5),\n",
    "        nn.Linear(4096, 4096), nn.ReLU(), nn.Dropout(0.5),\n",
    "        nn.Linear(4096, 10))\n",
    "\n",
    "conv_arch = ((1, 64), (1, 128), (2, 256), (2, 512), (2, 512))\n",
    "net = vgg(conv_arch)"
   ]
  },
  {
   "cell_type": "markdown",
   "id": "d36d2753",
   "metadata": {},
   "source": [
    "# 7.3 网络中的网络（NiN）"
   ]
  },
  {
   "cell_type": "code",
   "execution_count": 32,
   "id": "0664d8c8",
   "metadata": {},
   "outputs": [
    {
     "name": "stdout",
     "output_type": "stream",
     "text": [
      "Sequential output shape:\t torch.Size([1, 96, 54, 54])\n",
      "MaxPool2d output shape:\t torch.Size([1, 96, 26, 26])\n",
      "Sequential output shape:\t torch.Size([1, 256, 26, 26])\n",
      "MaxPool2d output shape:\t torch.Size([1, 256, 12, 12])\n",
      "Sequential output shape:\t torch.Size([1, 384, 12, 12])\n",
      "MaxPool2d output shape:\t torch.Size([1, 384, 5, 5])\n",
      "Dropout output shape:\t torch.Size([1, 384, 5, 5])\n",
      "Sequential output shape:\t torch.Size([1, 10, 5, 5])\n",
      "AdaptiveAvgPool2d output shape:\t torch.Size([1, 10, 1, 1])\n",
      "Flatten output shape:\t torch.Size([1, 10])\n"
     ]
    }
   ],
   "source": [
    "def nin_block(in_channels, out_channels, kernel_size, strides, padding):\n",
    "    return nn.Sequential(\n",
    "        nn.Conv2d(in_channels, out_channels, kernel_size, strides, padding),\n",
    "        nn.ReLU(),\n",
    "        nn.Conv2d(out_channels, out_channels, kernel_size=1), nn.ReLU(),\n",
    "        nn.Conv2d(out_channels, out_channels, kernel_size=1), nn.ReLU())\n",
    "\n",
    "net = nn.Sequential(\n",
    "    nin_block(1, 96, kernel_size=11, strides=4, padding=0),\n",
    "    nn.MaxPool2d(3, stride=2),\n",
    "    nin_block(96, 256, kernel_size=5, strides=1, padding=2),\n",
    "    nn.MaxPool2d(3, stride=2),\n",
    "    nin_block(256, 384, kernel_size=3, strides=1, padding=1),\n",
    "    nn.MaxPool2d(3, stride=2),\n",
    "    nn.Dropout(0.5),\n",
    "    # 标签类别数是10\n",
    "    nin_block(384, 10, kernel_size=3, strides=1, padding=1),\n",
    "    nn.AdaptiveAvgPool2d((1, 1)),\n",
    "    # 将四维的输出转成二维的输出，其形状为(批量大小,10)\n",
    "    nn.Flatten())\n",
    "\n",
    "X = torch.rand(size=(1, 1, 224, 224))\n",
    "for layer in net:\n",
    "    X = layer(X)\n",
    "    print(layer.__class__.__name__,'output shape:\\t', X.shape)"
   ]
  }
 ],
 "metadata": {
  "kernelspec": {
   "display_name": "pytorch",
   "language": "python",
   "name": "python3"
  },
  "language_info": {
   "codemirror_mode": {
    "name": "ipython",
    "version": 3
   },
   "file_extension": ".py",
   "mimetype": "text/x-python",
   "name": "python",
   "nbconvert_exporter": "python",
   "pygments_lexer": "ipython3",
   "version": "3.10.18"
  }
 },
 "nbformat": 4,
 "nbformat_minor": 5
}
